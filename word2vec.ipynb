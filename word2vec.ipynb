{
 "cells": [
  {
   "cell_type": "code",
   "execution_count": 1,
   "metadata": {},
   "outputs": [
    {
     "name": "stderr",
     "output_type": "stream",
     "text": [
      "C:\\ProgramData\\Anaconda3\\lib\\site-packages\\h5py\\__init__.py:36: FutureWarning: Conversion of the second argument of issubdtype from `float` to `np.floating` is deprecated. In future, it will be treated as `np.float64 == np.dtype(float).type`.\n",
      "  from ._conv import register_converters as _register_converters\n",
      "Using TensorFlow backend.\n"
     ]
    }
   ],
   "source": [
    "#Ehtiyacımız olan kitabxanaları import edirik\n",
    "import numpy as np\n",
    "from  sklearn.manifold import TSNE\n",
    "from gensim.models import Word2Vec\n",
    "from keras.models import Sequential, Model\n",
    "from keras.layers import Embedding, Reshape, Activation, Input\n",
    "from keras.layers.merge import Dot\n",
    "from keras.utils import np_utils\n",
    "from keras.utils.data_utils import get_file\n",
    "from keras.preprocessing.text import Tokenizer\n",
    "from keras.preprocessing.sequence import skipgrams\n",
    "import gensim\n",
    "import matplotlib.pyplot as plt"
   ]
  },
  {
   "cell_type": "code",
   "execution_count": 16,
   "metadata": {},
   "outputs": [],
   "source": [
    "#Korpusun hazırlanması.Qeyd edimki fəlsəfə.txt faylını internet üzərindən elektron kitab formasında yükləyib txt -mətn faylına çevirmişəm.\n",
    "#söz,cümlələrin daha çox təşkil etdiyi bazanı təşkil etsəniz daha məqsədəuyğundur.\n",
    "#Nümunə üçün ifadə sayı az olan data hazırladım\n",
    "file=open('fəlsəfə.txt','r',encoding='utf-8')\n",
    "text=file.read()\n",
    "text_list=text.split('\\n')\n",
    "corpus=[] \n",
    "for sentence in text_list:\n",
    "    corpus.append(sentence.split())\n",
    "    \n",
    "\n"
   ]
  },
  {
   "cell_type": "code",
   "execution_count": 17,
   "metadata": {},
   "outputs": [
    {
     "name": "stdout",
     "output_type": "stream",
     "text": [
      "[['Deyə', 'bilərik', 'ki,', 'fəlsəfə', 'mənəvi', 'təfəkkür', 'mədəniyyətinin', 'aynca'], ['bir', 'hissəsidir.', 'O,', 'fəlsəfəni', 'öyrənən', 'insanı', 'praktiki', 'həyat', 'proqra-'], ['mı,', 'həyatm', 'ali', 'mənasınm', 'dərk', 'edilməsi,', 'əxlaqi', 'ideallar', 'ilə'], ['silahlandırmağı', 'qarşısma', 'məqsəd', 'qoymuşdur.', 'İ.Kant', 'fəlsəfənin'], ['fəal', 'praktiki', 'xarakterini', 'vurğulayaraq', 'yazırdı:', '\"Ümumiyyətlə,'], ['müdriklik', 'bilikdən', 'daha', 'çox', 'fəaliyyət', 'tərzindən', 'ibarətdir...\"'], ['Fəlsəfə', 'mükəmməl', 'müdriklik', 'ideyasmı', 'təcəssüm', 'etdirir,', 'insan'], ['zəkasmm', 'ali', 'məqsədlərini', 'göstərir.', 'Filosofluğun', 'mahiyyəti', 'ali'], ['mənəvi', 'dəyərləri', 'əsaslandırmaqdır.'], ['Fəlsəfə', 'dünyanı', 'əvvəlcə', 'dərk', 'edən,', 'sonra', 'isə', 'onu', 'qiymətləndirən'], ['insanm', 'mənəvi', 'istiqamətləndirilməsi', 'funksiyasmı', 'yerinə', 'yetirir.'], ['Insanda', 'insaniyyətlik,', 'bütövlükdə', 'insanın', 'nə', 'demək', 'olduğu', 'fəl-'], ['səfəni', 'maraqlandıran', 'məsələlərdir.', 'Onu', 'öyrənənlərə', 'insan'], ['haqqmda', 'həqiqəti', 'dərk', 'etmək', 'imkam', 'yaradır.', 'Onu', 'sadəcə', 'olaraq'], ['insana', 'yönəlməsi', 'deyil,', 'insana', 'məhz', 'subyekt,', 'şəxsiyyət', 'kimi'], ['istiqamətlənməsi', 'səciyyələndirir.'], ['Fəlsəfə', 'biliyin', 'ən', 'humanist', 'nəzəri', 'formasıdır.', 'O,', 'insanla', 'xüsusi'], ['dildə', 'danışır,', 'ona', 'kim', 'olduğunu,', 'insani', 'leyaqət', 'və', 'vəzifənin'], ['rlədən', 'ibarət', 'olduğunu,', 'onun', 'cəmiyyətə,', 'təbiətə,', 'başqa', 'insana,'], ['bütün', 'Kainata', 'münasibətdə', 'bir', 'insan', 'kimi', 'hüquq', 'və', 'vəzifə-']]\n"
     ]
    }
   ],
   "source": [
    "print(corpus[20:40])#Hazırladığımız korpus daxilində Siyahıları çap edək"
   ]
  },
  {
   "cell_type": "code",
   "execution_count": 22,
   "metadata": {},
   "outputs": [],
   "source": [
    "#modelin hazırlanması. \n",
    "\n",
    "model=Word2Vec(corpus,size=200,window=6,min_count=3,sg=1)"
   ]
  },
  {
   "cell_type": "code",
   "execution_count": 23,
   "metadata": {},
   "outputs": [
    {
     "data": {
      "text/plain": [
       "array([ 3.26409712e-02, -1.11495465e-01, -1.09878801e-01, -1.61514040e-02,\n",
       "        6.24946095e-02, -5.53264767e-02,  1.88343860e-02, -3.00338143e-03,\n",
       "       -1.54164627e-01, -6.94016367e-02,  1.75558016e-01,  8.69417936e-02,\n",
       "       -1.10796735e-01,  1.27597913e-01,  3.24147604e-02, -8.59652385e-02,\n",
       "       -1.06904596e-01, -7.82519951e-03, -6.84554502e-02, -1.47515396e-02,\n",
       "       -2.78657645e-01,  4.68119048e-02,  1.52560091e-02, -1.48065791e-01,\n",
       "       -2.51362454e-02,  2.92899042e-01, -1.05379529e-01, -1.87575333e-02,\n",
       "       -4.77716625e-02,  3.28583457e-02,  3.02299708e-02,  1.03040852e-01,\n",
       "       -1.07400946e-01, -3.28874253e-02,  6.55905455e-02,  3.99901494e-02,\n",
       "        2.63467044e-01,  9.41064358e-02,  2.23817974e-02,  1.03699096e-01,\n",
       "       -2.05597328e-03,  8.52277204e-02, -8.59272853e-02, -9.81159657e-02,\n",
       "        1.44426316e-01, -2.54338473e-01,  1.51943818e-01,  1.62482157e-01,\n",
       "       -1.43855318e-01, -1.24393135e-01,  1.74871590e-02,  1.57655582e-01,\n",
       "       -4.18598764e-02,  9.72773135e-02,  1.84714928e-01,  5.89852221e-02,\n",
       "       -3.56585681e-02, -6.59848303e-02, -9.88419652e-02, -5.75815775e-02,\n",
       "        1.62760645e-01,  7.84497112e-02, -9.78449732e-02,  5.34794256e-02,\n",
       "        2.10447665e-02,  1.64533719e-01,  6.70162439e-02,  1.15130087e-02,\n",
       "       -5.65597527e-02,  1.44807056e-01,  1.43782213e-01, -1.63806770e-02,\n",
       "        3.47840264e-02,  8.63728579e-03,  2.39582658e-02,  5.06056771e-02,\n",
       "       -2.64389008e-01,  8.38875696e-02,  2.03713328e-01, -1.30823791e-01,\n",
       "       -2.22537249e-01,  4.25501578e-02, -7.12955371e-02,  2.52475470e-01,\n",
       "       -7.16568828e-02, -1.66358382e-01,  1.82319656e-02, -6.71951696e-02,\n",
       "       -1.30444780e-01, -1.69581637e-01,  1.24885984e-01,  2.33363956e-02,\n",
       "       -4.16577831e-02,  3.74198928e-02, -5.08263595e-02, -6.46462366e-02,\n",
       "        2.65608788e-01, -1.47612449e-02,  1.00383773e-01,  6.64267838e-02,\n",
       "        5.32358252e-02, -7.71607272e-03, -1.75277755e-01,  1.21891573e-01,\n",
       "        1.54883698e-01, -1.37734940e-04, -2.09689543e-01,  1.38477489e-01,\n",
       "        3.87368575e-02,  1.73039511e-01,  3.17575485e-02,  1.58459723e-01,\n",
       "        3.05162132e-01, -1.58564579e-02, -4.57987329e-03,  1.41889140e-01,\n",
       "        1.31433383e-01, -1.03437148e-01, -3.96668736e-04, -5.72390258e-02,\n",
       "        1.33132517e-01,  1.31406263e-01, -1.35491014e-01, -1.91895843e-01,\n",
       "        1.21512309e-01, -1.10951923e-02,  4.29494455e-02, -1.45287976e-01,\n",
       "        8.92777070e-02, -4.77270447e-02,  1.33865820e-02, -6.76524453e-03,\n",
       "       -7.38620833e-02,  2.61707127e-01,  1.83522850e-01, -1.59525365e-01,\n",
       "       -2.89817005e-01,  1.79696474e-02,  1.75854042e-02, -1.68038338e-01,\n",
       "        8.01772326e-02,  1.65710092e-01, -1.75117683e-02,  1.28895611e-01,\n",
       "        1.13470033e-01, -2.06775010e-01,  9.30938125e-02,  2.65018344e-01,\n",
       "        7.58993104e-02, -1.22152507e-01, -4.06682342e-02, -3.48651782e-02,\n",
       "       -1.75994918e-01, -6.95383325e-02,  1.92565009e-01, -4.73891571e-02,\n",
       "       -2.24237934e-01, -2.55323555e-02,  1.22654103e-01,  1.75704323e-02,\n",
       "       -3.83733474e-02,  2.31664497e-02, -1.28184725e-02, -1.29638180e-01,\n",
       "        6.35413006e-02, -8.36310014e-02,  1.08141184e-01, -1.09720550e-01,\n",
       "        1.78569816e-02,  1.10153714e-03, -1.05100915e-01, -2.54928082e-01,\n",
       "       -4.89505045e-02,  9.78682414e-02, -2.92418841e-02, -9.35865007e-03,\n",
       "       -1.10009834e-01, -7.39201233e-02,  6.84596300e-02,  1.12755053e-01,\n",
       "        1.18847966e-01, -2.74092853e-01,  5.06407209e-02, -1.97364345e-01,\n",
       "        1.01226300e-01, -8.75552818e-02,  1.18193924e-01,  3.01891705e-03,\n",
       "        8.91205309e-06,  3.83353606e-02, -5.12884520e-02, -5.51434904e-02,\n",
       "       -2.40519688e-01, -6.53489009e-02, -9.11870301e-02, -3.70758725e-03,\n",
       "       -1.39722750e-01, -6.04210496e-02, -1.37200043e-01, -1.30640110e-02],\n",
       "      dtype=float32)"
      ]
     },
     "execution_count": 23,
     "metadata": {},
     "output_type": "execute_result"
    }
   ],
   "source": [
    "#hazırladığımız model daxilində əgər qeyd etdiyimiz ifadə varsa,həmin kəlimənin vektorunu ekrana çap edək\n",
    "model.wv['insan']"
   ]
  },
  {
   "cell_type": "code",
   "execution_count": 24,
   "metadata": {},
   "outputs": [
    {
     "data": {
      "text/plain": [
       "array([ 0.03672487, -0.11063578, -0.09298438, -0.01961881,  0.05883814,\n",
       "       -0.05005358,  0.01460049, -0.00244978, -0.15134725, -0.07507091,\n",
       "        0.1764792 ,  0.08856005, -0.11544561,  0.13122901,  0.02955697,\n",
       "       -0.08000021, -0.10689594,  0.00531672, -0.07659401, -0.01527801,\n",
       "       -0.27507988,  0.04865298,  0.01300979, -0.1417728 , -0.03595459,\n",
       "        0.28508767, -0.09412222, -0.01767964, -0.04387366,  0.03011   ,\n",
       "        0.02358693,  0.0996635 , -0.09814694, -0.03415545,  0.06359842,\n",
       "        0.03232848,  0.26601103,  0.09013285,  0.02571068,  0.10172583,\n",
       "        0.0037668 ,  0.08692713, -0.1003412 , -0.112596  ,  0.14631188,\n",
       "       -0.24764411,  0.14783219,  0.16150057, -0.14564918, -0.13154925,\n",
       "        0.02838645,  0.1582608 , -0.03364202,  0.0879885 ,  0.184548  ,\n",
       "        0.05923637, -0.04229917, -0.06881441, -0.09906287, -0.06171657,\n",
       "        0.15408097,  0.08527215, -0.09394798,  0.04990359,  0.01185089,\n",
       "        0.16424245,  0.07482858,  0.01466847, -0.05632894,  0.15894361,\n",
       "        0.12666515, -0.02483739,  0.03117464,  0.01132294,  0.02969817,\n",
       "        0.04417555, -0.2553277 ,  0.08248848,  0.2008321 , -0.12125701,\n",
       "       -0.20940903,  0.05100391, -0.06798374,  0.24853438, -0.07426349,\n",
       "       -0.14867334,  0.02294442, -0.0602865 , -0.11586992, -0.16042131,\n",
       "        0.11266811,  0.0300926 , -0.03571596,  0.03443177, -0.05026528,\n",
       "       -0.05704036,  0.25686008, -0.0156961 ,  0.09519864,  0.07159353,\n",
       "        0.05836221, -0.00617646, -0.17694321,  0.12174845,  0.1540022 ,\n",
       "        0.0049325 , -0.20822306,  0.13779199,  0.03934428,  0.16619389,\n",
       "        0.03180673,  0.16518486,  0.3049753 , -0.01545841, -0.00066753,\n",
       "        0.13915929,  0.12504332, -0.1077714 , -0.00481935, -0.05553003,\n",
       "        0.12583752,  0.12683627, -0.12617296, -0.1810276 ,  0.12478332,\n",
       "       -0.01310236,  0.03530909, -0.14569497,  0.08665425, -0.05570902,\n",
       "        0.01385561, -0.01422169, -0.06984241,  0.25301355,  0.19356415,\n",
       "       -0.14921108, -0.28637376,  0.02736079,  0.02932996, -0.17205122,\n",
       "        0.07147282,  0.14707717, -0.00907699,  0.1258409 ,  0.10630051,\n",
       "       -0.19946353,  0.09102249,  0.2666675 ,  0.08277025, -0.12649314,\n",
       "       -0.03184682, -0.04022026, -0.16413835, -0.05969106,  0.18340096,\n",
       "       -0.04441194, -0.22468461, -0.01317781,  0.11721245,  0.01582507,\n",
       "       -0.04423099,  0.02483837, -0.01176145, -0.13936558,  0.07491647,\n",
       "       -0.08778712,  0.10652561, -0.1043934 ,  0.0162936 ,  0.00255259,\n",
       "       -0.10909747, -0.24633655, -0.05376429,  0.10392843, -0.02696652,\n",
       "       -0.01273447, -0.11493589, -0.07469844,  0.06356903,  0.11139529,\n",
       "        0.11500534, -0.26774365,  0.04430147, -0.1933927 ,  0.10213394,\n",
       "       -0.09689854,  0.1080177 , -0.00351618, -0.00574634,  0.04018081,\n",
       "       -0.05654718, -0.05377275, -0.23047867, -0.05967812, -0.08921081,\n",
       "        0.00177738, -0.12991972, -0.05906876, -0.13653126, -0.01688318],\n",
       "      dtype=float32)"
      ]
     },
     "execution_count": 24,
     "metadata": {},
     "output_type": "execute_result"
    }
   ],
   "source": [
    "#Nümunə-2\n",
    "model.wv['fəlsəfə']"
   ]
  },
  {
   "cell_type": "code",
   "execution_count": 25,
   "metadata": {},
   "outputs": [
    {
     "data": {
      "text/plain": [
       "[('insanın', 0.9992678761482239),\n",
       " ('Lakin', 0.9992508292198181),\n",
       " ('öz', 0.9992502927780151),\n",
       " ('bütün', 0.9992022514343262),\n",
       " ('olan', 0.9990972876548767),\n",
       " ('mənəvi', 0.9990404844284058),\n",
       " ('yeni', 0.9989932179450989),\n",
       " ('həmin', 0.9989911317825317),\n",
       " ('edilməsi', 0.9987608194351196),\n",
       " ('fəlsəfi', 0.9987296462059021)]"
      ]
     },
     "execution_count": 25,
     "metadata": {},
     "output_type": "execute_result"
    }
   ],
   "source": [
    "#Birbirinə bənzər-yaxınlıq elementləri üçün ifadəni test edək\n",
    "model.wv.most_similar('fəlsəfə')"
   ]
  },
  {
   "cell_type": "code",
   "execution_count": 26,
   "metadata": {},
   "outputs": [
    {
     "name": "stdout",
     "output_type": "stream",
     "text": [
      "Model yaddaşda saxlanıldı\n"
     ]
    }
   ],
   "source": [
    "#Hazırladığımız modeli data qovluğunda yaddaşda saxlayaq.\n",
    "model.save('model/word2vec.model')\n",
    "print('Model yaddaşda saxlanıldı')"
   ]
  },
  {
   "cell_type": "code",
   "execution_count": 28,
   "metadata": {},
   "outputs": [
    {
     "name": "stdout",
     "output_type": "stream",
     "text": [
      "Ifadəni yazın:fəlsəfə\n"
     ]
    },
    {
     "data": {
      "image/png": "[encoded data removed]",
      "text/plain": [
       "<Figure size 432x288 with 1 Axes>"
      ]
     },
     "metadata": {},
     "output_type": "display_data"
    }
   ],
   "source": [
    "\n",
    "words=input(\"Ifadəni yazın:\")\n",
    "def _TSNE(model,words):\n",
    "    word_vec=np.empty((0,200))\n",
    "    word_label=[words]\n",
    "    similar_words=model.wv.most_similar(words)\n",
    "    word_vec=np.append(word_vec,np.array([model.wv[words]]),axis=0)\n",
    "    model=Word2Vec.load('model/word2vec.model')\n",
    "    for w,v in similar_words:\n",
    "        word_label.append(w)\n",
    "        word_vec=np.append(word_vec,np.array([model.wv[w]]),axis=0)\n",
    "        _tsne=TSNE(random_state=0)\n",
    "        y_tsne=_tsne.fit_transform(word_vec)\n",
    "        x_coordinate=y_tsne[:,0]\n",
    "        y_coordinate=y_tsne[:,1]\n",
    "        plt.scatter(x_coordinate,y_coordinate)\n",
    "    for label,x,y in zip(word_label,x_coordinate,y_coordinate):\n",
    "        plt.annotate(label,xy=(x,y),xytext=(3,-1),textcoords='offset points')\n",
    "\n",
    "    plt.show()\n",
    "_TSNE(model,words)"
   ]
  },
  {
   "cell_type": "code",
   "execution_count": 29,
   "metadata": {},
   "outputs": [],
   "source": [
    "#Mavi ilə qeyd olunmuş elementlər daxil etdiyimiz kəliməyə yaxınlıq prinspi ilə koordinat daxilində qeyd olunmuşdur"
   ]
  },
  {
   "cell_type": "code",
   "execution_count": 31,
   "metadata": {},
   "outputs": [
    {
     "data": {
      "text/plain": [
       "[('insanın', 0.9992678761482239),\n",
       " ('Lakin', 0.9992508292198181),\n",
       " ('öz', 0.9992502927780151),\n",
       " ('bütün', 0.9992022514343262),\n",
       " ('olan', 0.9990972876548767),\n",
       " ('mənəvi', 0.9990404844284058),\n",
       " ('yeni', 0.9989932179450989),\n",
       " ('həmin', 0.9989911317825317),\n",
       " ('edilməsi', 0.9987608194351196),\n",
       " ('fəlsəfi', 0.9987296462059021)]"
      ]
     },
     "execution_count": 31,
     "metadata": {},
     "output_type": "execute_result"
    }
   ],
   "source": [
    "#Fəlsəfə kəliməsinə yaxınlıq gələn ifadələr yaxınlıq-prinsipinə əsaslanaraq sıralanmışdır\n",
    "model.wv.most_similar('fəlsəfə')"
   ]
  },
  {
   "cell_type": "code",
   "execution_count": 32,
   "metadata": {},
   "outputs": [],
   "source": [
    "#Corpusun format datası-nın təşkili"
   ]
  },
  {
   "cell_type": "code",
   "execution_count": 33,
   "metadata": {},
   "outputs": [
    {
     "name": "stdout",
     "output_type": "stream",
     "text": [
      "18829\n"
     ]
    }
   ],
   "source": [
    "file = open('fəlsəfə.txt',encoding='utf-8').readlines()\n",
    "corpus = [sentence for sentence in file if sentence.count(' ') >= 2]\n",
    "tokenizer = Tokenizer()\n",
    "tokenizer.fit_on_texts(corpus)\n",
    "length = len(tokenizer.word_index) + 1\n",
    "print(length)"
   ]
  },
  {
   "cell_type": "code",
   "execution_count": 34,
   "metadata": {},
   "outputs": [
    {
     "name": "stdout",
     "output_type": "stream",
     "text": [
      "WARNING:tensorflow:From C:\\ProgramData\\Anaconda3\\lib\\site-packages\\tensorflow\\python\\framework\\op_def_library.py:263: colocate_with (from tensorflow.python.framework.ops) is deprecated and will be removed in a future version.\n",
      "Instructions for updating:\n",
      "Colocations handled automatically by placer.\n",
      "__________________________________________________________________________________________________\n",
      "Layer (type)                    Output Shape         Param #     Connected to                     \n",
      "==================================================================================================\n",
      "input_1 (InputLayer)            (None, 1)            0                                            \n",
      "__________________________________________________________________________________________________\n",
      "input_2 (InputLayer)            (None, 1)            0                                            \n",
      "__________________________________________________________________________________________________\n",
      "embedding_1 (Embedding)         (None, 1, 64)        1205056     input_1[0][0]                    \n",
      "__________________________________________________________________________________________________\n",
      "embedding_2 (Embedding)         (None, 1, 64)        1205056     input_2[0][0]                    \n",
      "__________________________________________________________________________________________________\n",
      "dot_1 (Dot)                     (None, 1, 1)         0           embedding_1[0][0]                \n",
      "                                                                 embedding_2[0][0]                \n",
      "__________________________________________________________________________________________________\n",
      "reshape_1 (Reshape)             (None, 1)            0           dot_1[0][0]                      \n",
      "__________________________________________________________________________________________________\n",
      "activation_1 (Activation)       (None, 1)            0           reshape_1[0][0]                  \n",
      "==================================================================================================\n",
      "Total params: 2,410,112\n",
      "Trainable params: 2,410,112\n",
      "Non-trainable params: 0\n",
      "__________________________________________________________________________________________________\n"
     ]
    }
   ],
   "source": [
    "batch_size = 64\n",
    "# inputs\n",
    "_inputs = Input(shape=(1, ), dtype='int32')\n",
    "_embeding = Embedding(length, batch_size)(_inputs)\n",
    "\n",
    "# context\n",
    "Inputs = Input(shape=(1, ), dtype='int32')\n",
    "c  = Embedding(length, batch_size)(Inputs)\n",
    "_axes = Dot(axes=2)([_embeding, c])\n",
    "_axes = Reshape((1,), input_shape=(1, 1))(_axes)\n",
    "_axes = Activation('sigmoid')(_axes)\n",
    "\n",
    "SkipGram = Model(inputs=[_inputs, Inputs], outputs=_axes)\n",
    "SkipGram.summary()\n",
    "SkipGram.compile(loss='binary_crossentropy', optimizer='adam')"
   ]
  },
  {
   "cell_type": "code",
   "execution_count": null,
   "metadata": {},
   "outputs": [
    {
     "name": "stdout",
     "output_type": "stream",
     "text": [
      "WARNING:tensorflow:From C:\\ProgramData\\Anaconda3\\lib\\site-packages\\tensorflow\\python\\ops\\math_ops.py:3066: to_int32 (from tensorflow.python.ops.math_ops) is deprecated and will be removed in a future version.\n",
      "Instructions for updating:\n",
      "Use tf.cast instead.\n"
     ]
    }
   ],
   "source": [
    "for _ in range(5):\n",
    "    loss = 0.\n",
    "    for i, doc in enumerate(tokenizer.texts_to_sequences(corpus)):\n",
    "        data, labels = skipgrams(sequence=doc, vocabulary_size=length, window_size=6, negative_samples=5.)\n",
    "        x = [np.array(x) for x in zip(*data)]\n",
    "        y = np.array(labels, dtype=np.int32)\n",
    "        if x:\n",
    "            loss += SkipGram.train_on_batch(x, y)\n",
    "\n",
    "    print(loss)"
   ]
  },
  {
   "cell_type": "code",
   "execution_count": 35,
   "metadata": {},
   "outputs": [],
   "source": [
    "f = open('model/f_vectors.txt' ,'w',encoding='utf-8')\n",
    "f.write('{} {}\\n'.format(length-1, batch_size))\n",
    "vectors = SkipGram.get_weights()[0]\n",
    "for word, i in tokenizer.word_index.items():\n",
    "    f.write('{} {}\\n'.format(word, ' '.join(map(str, list(vectors[i, :])))))\n",
    "f.close()"
   ]
  },
  {
   "cell_type": "code",
   "execution_count": 36,
   "metadata": {},
   "outputs": [],
   "source": [
    "model = gensim.models.KeyedVectors.load_word2vec_format('model/f_vectors.txt', binary=False)"
   ]
  },
  {
   "cell_type": "code",
   "execution_count": 40,
   "metadata": {},
   "outputs": [
    {
     "data": {
      "text/plain": [
       "[('məäamlarla', 0.4860852062702179),\n",
       " ('sürülmüş', 0.45908600091934204),\n",
       " ('zühur', 0.42172056436538696),\n",
       " ('heyvanlardan', 0.41629207134246826),\n",
       " ('immaimiel', 0.4110863208770752),\n",
       " ('başlanğı', 0.4094387888908386),\n",
       " ('artımına', 0.4021345376968384),\n",
       " ('etdirirdi', 0.401907354593277),\n",
       " ('sayxla', 0.40079012513160706),\n",
       " ('tələbləri', 0.3944016396999359)]"
      ]
     },
     "execution_count": 40,
     "metadata": {},
     "output_type": "execute_result"
    }
   ],
   "source": [
    "model.most_similar(positive=['həyat'])"
   ]
  },
  {
   "cell_type": "code",
   "execution_count": 43,
   "metadata": {},
   "outputs": [
    {
     "data": {
      "text/plain": [
       "[('oynamalıdır', 0.5068039894104004),\n",
       " ('qızıl', 0.48888951539993286),\n",
       " ('başlamr', 0.46947741508483887),\n",
       " ('əvvəli', 0.46160268783569336),\n",
       " ('əka', 0.4425356388092041),\n",
       " ('pozulmasma', 0.43622368574142456),\n",
       " ('irıkişafm', 0.42799878120422363),\n",
       " ('kəskin', 0.41223329305648804),\n",
       " ('kəskinliyi', 0.4116126000881195),\n",
       " ('xum', 0.4100416898727417)]"
      ]
     },
     "execution_count": 43,
     "metadata": {},
     "output_type": "execute_result"
    }
   ],
   "source": [
    "model.most_similar(positive=['beyin'])"
   ]
  },
  {
   "cell_type": "code",
   "execution_count": null,
   "metadata": {},
   "outputs": [],
   "source": []
  }
 ],
 "metadata": {
  "kernelspec": {
   "display_name": "Python 3",
   "language": "python",
   "name": "python3"
  },
  "language_info": {
   "codemirror_mode": {
    "name": "ipython",
    "version": 3
   },
   "file_extension": ".py",
   "mimetype": "text/x-python",
   "name": "python",
   "nbconvert_exporter": "python",
   "pygments_lexer": "ipython3",
   "version": "3.6.4"
  }
 },
 "nbformat": 4,
 "nbformat_minor": 2
}
