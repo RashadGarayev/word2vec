{
 "cells": [
  {
   "cell_type": "code",
   "execution_count": 7,
   "metadata": {},
   "outputs": [],
   "source": [
    "#Ehtiyacımız olan kitabxanaları import edirik\n",
    "import numpy as np\n",
    "from  sklearn.manifold import TSNE\n",
    "from gensim.models import Word2Vec\n",
    "import matplotlib.pyplot as plt"
   ]
  },
  {
   "cell_type": "code",
   "execution_count": 12,
   "metadata": {},
   "outputs": [],
   "source": [
    "#Korpusun hazırlanması.Qeyd edimki fəlsəfə.txt faylını internet üzərindən elektron kitab formasında yükləyib txt -mətn faylına çevirmişəm.\n",
    "#söz,cümlələrin daha çox təşkil etdiyi bazanı təşkil etsəniz daha məqsədəuyğundur.\n",
    "#Nümunə üçün ifadə sayı az olan data hazırladım\n",
    "file=open('fəlsəfə.txt','r',encoding='utf-8')\n",
    "text=file.read()\n",
    "text_list=text.split('\\n')\n",
    "corpus=[] \n",
    "for sentence in text_list:\n",
    "    corpus.append(sentence.split())\n",
    "    \n",
    "\n"
   ]
  },
  {
   "cell_type": "code",
   "execution_count": 13,
   "metadata": {},
   "outputs": [
    {
     "name": "stdout",
     "output_type": "stream",
     "text": [
      "[['Deyə', 'bilərik', 'ki,', 'fəlsəfə', 'mənəvi', 'təfəkkür', 'mədəniyyətinin', 'aynca'], ['bir', 'hissəsidir.', 'O,', 'fəlsəfəni', 'öyrənən', 'insanı', 'praktiki', 'həyat', 'proqra-'], ['mı,', 'həyatm', 'ali', 'mənasınm', 'dərk', 'edilməsi,', 'əxlaqi', 'ideallar', 'ilə'], ['silahlandırmağı', 'qarşısma', 'məqsəd', 'qoymuşdur.', 'İ.Kant', 'fəlsəfənin'], ['fəal', 'praktiki', 'xarakterini', 'vurğulayaraq', 'yazırdı:', '\"Ümumiyyətlə,'], ['müdriklik', 'bilikdən', 'daha', 'çox', 'fəaliyyət', 'tərzindən', 'ibarətdir...\"'], ['Fəlsəfə', 'mükəmməl', 'müdriklik', 'ideyasmı', 'təcəssüm', 'etdirir,', 'insan'], ['zəkasmm', 'ali', 'məqsədlərini', 'göstərir.', 'Filosofluğun', 'mahiyyəti', 'ali'], ['mənəvi', 'dəyərləri', 'əsaslandırmaqdır.'], ['Fəlsəfə', 'dünyanı', 'əvvəlcə', 'dərk', 'edən,', 'sonra', 'isə', 'onu', 'qiymətləndirən'], ['insanm', 'mənəvi', 'istiqamətləndirilməsi', 'funksiyasmı', 'yerinə', 'yetirir.'], ['Insanda', 'insaniyyətlik,', 'bütövlükdə', 'insanın', 'nə', 'demək', 'olduğu', 'fəl-'], ['səfəni', 'maraqlandıran', 'məsələlərdir.', 'Onu', 'öyrənənlərə', 'insan'], ['haqqmda', 'həqiqəti', 'dərk', 'etmək', 'imkam', 'yaradır.', 'Onu', 'sadəcə', 'olaraq'], ['insana', 'yönəlməsi', 'deyil,', 'insana', 'məhz', 'subyekt,', 'şəxsiyyət', 'kimi'], ['istiqamətlənməsi', 'səciyyələndirir.'], ['Fəlsəfə', 'biliyin', 'ən', 'humanist', 'nəzəri', 'formasıdır.', 'O,', 'insanla', 'xüsusi'], ['dildə', 'danışır,', 'ona', 'kim', 'olduğunu,', 'insani', 'leyaqət', 'və', 'vəzifənin'], ['rlədən', 'ibarət', 'olduğunu,', 'onun', 'cəmiyyətə,', 'təbiətə,', 'başqa', 'insana,'], ['bütün', 'Kainata', 'münasibətdə', 'bir', 'insan', 'kimi', 'hüquq', 'və', 'vəzifə-']]\n"
     ]
    }
   ],
   "source": [
    "print(corpus[20:40])#Hazırladığımız korpus daxilində Siyahıları çap edək"
   ]
  },
  {
   "cell_type": "code",
   "execution_count": 15,
   "metadata": {},
   "outputs": [],
   "source": [
    "#modelin hazırlanması. \n",
    "\n",
    "model=Word2Vec(corpus,size=200,window=5,min_count=3,sg=1)"
   ]
  },
  {
   "cell_type": "code",
   "execution_count": 16,
   "metadata": {},
   "outputs": [
    {
     "data": {
      "text/plain": [
       "array([-1.73220098e-01,  7.17285573e-02,  2.21848384e-01,  9.57690999e-02,\n",
       "        1.50217623e-01, -2.05596417e-01,  1.90530002e-01, -5.89258857e-02,\n",
       "        1.25140920e-01,  1.45731270e-01, -2.64263880e-02, -9.93723646e-02,\n",
       "        1.05960995e-01,  1.62798151e-01,  1.70457289e-01, -1.94791958e-01,\n",
       "       -3.72118205e-02,  1.02530955e-03, -7.04402998e-02, -5.16346209e-02,\n",
       "        1.79711077e-02, -1.86107270e-02,  1.14059575e-01,  1.09026559e-01,\n",
       "       -6.40766397e-02,  7.68856052e-03,  1.29410163e-01, -1.30589724e-01,\n",
       "        5.74187636e-02, -1.18487678e-01,  5.66710420e-02,  2.42407709e-01,\n",
       "        9.74488333e-02,  2.19071046e-01, -8.54149926e-03,  1.35992929e-01,\n",
       "       -7.58354589e-02,  2.99768765e-02,  8.82374570e-02, -9.67346951e-02,\n",
       "       -1.51456833e-01, -1.37611926e-01, -1.06683141e-02,  2.08836168e-01,\n",
       "        1.24249607e-01,  3.53677683e-02,  2.42564887e-01, -1.30128274e-02,\n",
       "        7.46742263e-03, -2.46523023e-02, -1.58558264e-02,  1.08905688e-01,\n",
       "       -9.57299396e-02, -2.66890265e-02, -1.35623574e-01, -1.29054502e-01,\n",
       "        3.43546097e-04, -5.59034348e-02,  3.08812484e-02, -7.68532008e-02,\n",
       "       -1.30386248e-01, -3.75635712e-03,  2.17022702e-01,  2.43676305e-01,\n",
       "        5.52521832e-02,  2.49744117e-01, -6.32312447e-02,  2.36457825e-01,\n",
       "        8.85582566e-02, -2.65580535e-01, -1.28250301e-01, -5.91376200e-02,\n",
       "        1.80691898e-01, -4.31040227e-02,  9.35053974e-02, -5.67988381e-02,\n",
       "       -1.01737222e-02, -1.12682782e-01, -3.88526246e-02, -2.95609422e-02,\n",
       "       -1.25863209e-01, -1.03832968e-01, -1.03831803e-02,  9.34066623e-03,\n",
       "        2.46553525e-01, -4.09634113e-01, -8.72018859e-02,  1.41508996e-01,\n",
       "        1.01142647e-02,  5.78668304e-02,  2.68252809e-02, -8.04354101e-02,\n",
       "       -1.17906295e-01,  9.40480381e-02, -1.14840223e-02,  1.68374821e-03,\n",
       "       -1.17610907e-02, -1.81680620e-02, -1.30598813e-01, -3.21921520e-02,\n",
       "       -4.79258262e-02,  1.04079902e-01,  1.21687293e-01,  2.09138110e-01,\n",
       "       -1.05470136e-01, -7.76634887e-02,  2.05522880e-01,  1.10279635e-01,\n",
       "       -1.80246995e-03,  1.21673737e-02,  2.51885474e-01, -8.92400742e-02,\n",
       "       -2.91915890e-02,  1.94710881e-01,  1.11372612e-01, -3.09413411e-02,\n",
       "        9.29967966e-03, -1.36394203e-01, -3.67943823e-01, -2.77593210e-02,\n",
       "        1.33013781e-02, -4.60196808e-02,  2.16923770e-03,  1.14279442e-01,\n",
       "       -5.37910722e-02, -1.53156042e-01,  1.32023990e-01,  1.44391460e-02,\n",
       "       -2.52204776e-01,  1.17320858e-01,  4.25690077e-02,  1.72881320e-01,\n",
       "       -1.83160976e-01,  8.01074356e-02, -1.14348024e-01,  7.57592842e-02,\n",
       "        2.16624383e-02,  1.31076947e-01,  4.02511805e-02,  9.41786841e-02,\n",
       "        9.18349996e-02, -1.71271190e-01, -2.39441376e-02, -5.40968068e-02,\n",
       "        1.25168813e-02,  1.09759361e-01,  1.43637896e-01,  8.39394107e-02,\n",
       "        6.64424226e-02, -7.74915218e-02,  1.83452696e-01, -6.70185983e-02,\n",
       "       -1.65735371e-02, -9.63507965e-02, -9.33148339e-02,  8.54993090e-02,\n",
       "       -1.49002783e-02, -8.75938386e-02,  4.75114062e-02,  1.47374690e-01,\n",
       "       -6.22678660e-02,  5.92491543e-03, -3.80721875e-02,  1.02886269e-02,\n",
       "        1.38499681e-02, -1.19026542e-01,  1.67632952e-01,  1.33900195e-01,\n",
       "        1.44393086e-01,  1.06055841e-01, -5.76364882e-02, -4.43681851e-02,\n",
       "        8.37576613e-02, -6.24812841e-02,  1.58788949e-01,  1.12523295e-01,\n",
       "        3.78063181e-04, -4.56962883e-02,  1.16492594e-02, -7.90217444e-02,\n",
       "       -2.49676242e-01,  7.03788549e-02, -2.90210024e-02,  1.03344485e-01,\n",
       "        5.20478189e-02, -7.73368552e-02, -8.66060406e-02,  1.26670673e-01,\n",
       "        1.32269692e-02,  4.15217876e-02, -1.16883405e-01, -6.55355155e-02,\n",
       "        1.44387469e-01, -1.27567619e-01,  1.02173045e-01,  2.47397169e-01,\n",
       "       -8.26280266e-02, -4.16589417e-02, -2.56611854e-01, -4.94563095e-02],\n",
       "      dtype=float32)"
      ]
     },
     "execution_count": 16,
     "metadata": {},
     "output_type": "execute_result"
    }
   ],
   "source": [
    "#hazırladığımız model daxilində əgər qeyd etdiyimiz ifadə varsa,həmin kəlimənin vektorunu ekrana çap edək\n",
    "model.wv['insan']"
   ]
  },
  {
   "cell_type": "code",
   "execution_count": 17,
   "metadata": {},
   "outputs": [
    {
     "data": {
      "text/plain": [
       "array([-0.15873952,  0.06984898,  0.2147544 ,  0.10002061,  0.1508033 ,\n",
       "       -0.20804113,  0.19849917, -0.05528036,  0.11932387,  0.14295459,\n",
       "       -0.02363978, -0.08652123,  0.10179909,  0.15469973,  0.16792923,\n",
       "       -0.18837185, -0.03809875, -0.00144803, -0.07591679, -0.04480186,\n",
       "        0.01930694, -0.03166017,  0.11058316,  0.11143503, -0.06969286,\n",
       "        0.01179114,  0.1251409 , -0.12471502,  0.05396511, -0.11485382,\n",
       "        0.05899879,  0.23600306,  0.09655861,  0.19878761, -0.00169392,\n",
       "        0.13392656, -0.07984007,  0.02669944,  0.08189487, -0.07647669,\n",
       "       -0.15079819, -0.13525191, -0.00626568,  0.18908858,  0.11855128,\n",
       "        0.03927552,  0.2360883 , -0.0263707 ,  0.00555322, -0.01807825,\n",
       "       -0.01600507,  0.10171638, -0.08216535, -0.02008793, -0.1345765 ,\n",
       "       -0.12499556,  0.00169457, -0.06123933,  0.03457909, -0.07550904,\n",
       "       -0.1294967 , -0.01580364,  0.21133521,  0.23497932,  0.05896725,\n",
       "        0.2358352 , -0.06195494,  0.23737688,  0.07684441, -0.2633587 ,\n",
       "       -0.11623695, -0.06574679,  0.17658156, -0.0478652 ,  0.09277606,\n",
       "       -0.05513208, -0.01041788, -0.09398202, -0.04503771, -0.04560269,\n",
       "       -0.12720534, -0.10480771, -0.00395109,  0.01769234,  0.2522769 ,\n",
       "       -0.4026436 , -0.10214179,  0.13300279,  0.00603872,  0.04359355,\n",
       "        0.03341178, -0.07722878, -0.1229495 ,  0.08113042, -0.02076896,\n",
       "        0.00482644, -0.0131866 , -0.01561588, -0.12708771, -0.03882445,\n",
       "       -0.05506185,  0.10737149,  0.11319091,  0.19802938, -0.10602101,\n",
       "       -0.06658519,  0.20478894,  0.11632277, -0.00908762,  0.00857267,\n",
       "        0.24420671, -0.08658482, -0.02139639,  0.18548854,  0.10118248,\n",
       "       -0.02459979,  0.01450957, -0.1301923 , -0.36177805, -0.02670737,\n",
       "        0.00634345, -0.03865996, -0.01201606,  0.10925973, -0.0626644 ,\n",
       "       -0.16197814,  0.12999927,  0.01619364, -0.2411092 ,  0.107544  ,\n",
       "        0.02909549,  0.16820611, -0.17123742,  0.07115952, -0.10679467,\n",
       "        0.07351903,  0.00860728,  0.11159652,  0.03472482,  0.09848243,\n",
       "        0.08215017, -0.16173866, -0.0312627 , -0.03911182,  0.0099863 ,\n",
       "        0.10498242,  0.14619778,  0.0934666 ,  0.0575567 , -0.07603121,\n",
       "        0.17652665, -0.06657933, -0.01117727, -0.09568285, -0.07839557,\n",
       "        0.08400483, -0.01729405, -0.08381213,  0.0469624 ,  0.14176393,\n",
       "       -0.05632907,  0.00185314, -0.05615536,  0.0124816 ,  0.0097839 ,\n",
       "       -0.12509277,  0.16519257,  0.13264129,  0.14564581,  0.09910906,\n",
       "       -0.04408493, -0.04353635,  0.08105846, -0.05202386,  0.150664  ,\n",
       "        0.10496193, -0.00471594, -0.03980777,  0.01088092, -0.07361427,\n",
       "       -0.25050154,  0.06698713, -0.02057984,  0.09518271,  0.04498294,\n",
       "       -0.08418337, -0.08924698,  0.13510543,  0.00581668,  0.03036842,\n",
       "       -0.10795771, -0.06767824,  0.13873841, -0.12486404,  0.09279904,\n",
       "        0.24616456, -0.08275007, -0.0419749 , -0.24451391, -0.04236231],\n",
       "      dtype=float32)"
      ]
     },
     "execution_count": 17,
     "metadata": {},
     "output_type": "execute_result"
    }
   ],
   "source": [
    "#Nümunə-2\n",
    "model.wv['fəlsəfə']"
   ]
  },
  {
   "cell_type": "code",
   "execution_count": 18,
   "metadata": {},
   "outputs": [
    {
     "data": {
      "text/plain": [
       "[('O,', 0.9986732006072998),\n",
       " ('edirdi', 0.9986534118652344),\n",
       " ('insan', 0.9979372024536133),\n",
       " ('o,', 0.9978002309799194),\n",
       " ('həmin', 0.9975552558898926),\n",
       " ('insanın', 0.9971436858177185),\n",
       " ('hər', 0.9970661401748657),\n",
       " ('bütün', 0.9969725608825684),\n",
       " ('edir.', 0.996910572052002),\n",
       " ('isə', 0.9968838691711426)]"
      ]
     },
     "execution_count": 18,
     "metadata": {},
     "output_type": "execute_result"
    }
   ],
   "source": [
    "#Birbirinə bənzər-yaxınlıq elementləri üçün ifadəni test edək\n",
    "model.wv.most_similar('edir')"
   ]
  },
  {
   "cell_type": "code",
   "execution_count": 19,
   "metadata": {},
   "outputs": [],
   "source": [
    "#Hazırladığımız modeli data qovluğunda yaddaşda saxlayaq.\n",
    "model.save('data/word2vec.model')"
   ]
  },
  {
   "cell_type": "code",
   "execution_count": 47,
   "metadata": {},
   "outputs": [
    {
     "name": "stdout",
     "output_type": "stream",
     "text": [
      "Ifadəni yazın:fəlsəfə\n"
     ]
    },
    {
     "data": {
      "image/png": "[encoded data removed]",
      "text/plain": [
       "<Figure size 432x288 with 1 Axes>"
      ]
     },
     "metadata": {},
     "output_type": "display_data"
    }
   ],
   "source": [
    "\n",
    "words=input(\"Ifadəni yazın:\")\n",
    "def _TSNE(model,words):\n",
    "    word_vec=np.empty((0,200))\n",
    "    word_label=[words]\n",
    "    similar_words=model.wv.most_similar(words)\n",
    "    word_vec=np.append(word_vec,np.array([model.wv[words]]),axis=0)\n",
    "    model=Word2Vec.load('data/word2vec.model')\n",
    "    for w,v in similar_words:\n",
    "        word_label.append(w)\n",
    "        word_vec=np.append(word_vec,np.array([model.wv[w]]),axis=0)\n",
    "        _tsne=TSNE(random_state=0)\n",
    "        y_tsne=_tsne.fit_transform(word_vec)\n",
    "        x_coordinate=y_tsne[:,0]\n",
    "        y_coordinate=y_tsne[:,1]\n",
    "        plt.scatter(x_coordinate,y_coordinate)\n",
    "    for label,x,y in zip(word_label,x_coordinate,y_coordinate):\n",
    "        plt.annotate(label,xy=(x,y),xytext=(3,-2),textcoords='offset points')\n",
    "\n",
    "    plt.show()\n",
    "_TSNE(model,words)"
   ]
  },
  {
   "cell_type": "code",
   "execution_count": 48,
   "metadata": {},
   "outputs": [],
   "source": [
    "#Mavi ilə qeyd olunmuş elementlər daxil etdiyimiz kəliməyə yaxınlıq prinspi ilə koordinat daxilində qeyd olunmuşdur"
   ]
  },
  {
   "cell_type": "code",
   "execution_count": 49,
   "metadata": {},
   "outputs": [
    {
     "data": {
      "text/plain": [
       "[('özünün', 0.9995154142379761),\n",
       " ('mənəvi', 0.9993885159492493),\n",
       " ('müxtəlif', 0.9993727207183838),\n",
       " ('bütün', 0.9993531703948975),\n",
       " ('elmi', 0.9992967844009399),\n",
       " ('əsas', 0.9991745948791504),\n",
       " ('şəkildə', 0.9991042613983154),\n",
       " ('fəlsəfənin', 0.9990098476409912),\n",
       " ('isə', 0.9990068674087524),\n",
       " ('həmin', 0.9989999532699585)]"
      ]
     },
     "execution_count": 49,
     "metadata": {},
     "output_type": "execute_result"
    }
   ],
   "source": [
    "#Fəlsəfə kəliməsinə yaxınlıq gələn ifadələr yaxınlıq-prinsipinə əsaslanaraq sıralanmışdır\n",
    "model.wv.most_similar('fəlsəfə')"
   ]
  },
  {
   "cell_type": "code",
   "execution_count": null,
   "metadata": {},
   "outputs": [],
   "source": []
  }
 ],
 "metadata": {
  "kernelspec": {
   "display_name": "Python 3",
   "language": "python",
   "name": "python3"
  },
  "language_info": {
   "codemirror_mode": {
    "name": "ipython",
    "version": 3
   },
   "file_extension": ".py",
   "mimetype": "text/x-python",
   "name": "python",
   "nbconvert_exporter": "python",
   "pygments_lexer": "ipython3",
   "version": "3.6.4"
  }
 },
 "nbformat": 4,
 "nbformat_minor": 2
}
